{
 "cells": [
  {
   "cell_type": "code",
   "execution_count": 1,
   "metadata": {},
   "outputs": [],
   "source": [
    "import time\n",
    "import numpy as np\n",
    "import matplotlib.pylab as plt\n",
    "%matplotlib inline"
   ]
  },
  {
   "cell_type": "code",
   "execution_count": 2,
   "metadata": {},
   "outputs": [],
   "source": [
    "teststring = 'GATGGAACTTGACTACGTAAATT'\n",
    "teststring2 = 'AAAACCCGGT'\n",
    "teststring3 = 'AGCTTTTCATTCTGACTGCAACGGGCAATATGTCTCTGTGTGGATTAAAAAAAGAGTGTCTGATAGCAGC'"
   ]
  },
  {
   "cell_type": "markdown",
   "metadata": {},
   "source": [
    "## Problem\n",
    "\n",
    "An **RNA string** is a string formed from the alphabet containing 'A', 'C', 'G', and 'U'.\n",
    "\n",
    "Given a DNA string t\n",
    "corresponding to a coding strand, its transcribed RNA string u is formed by replacing all occurrences of 'T' in t with 'U' in u.\n",
    "\n",
    "**Given:** A DNA string t having length at most 1000 nt.\n",
    "\n",
    "**Return:** The transcribed RNA string of t."
   ]
  },
  {
   "cell_type": "code",
   "execution_count": 3,
   "metadata": {},
   "outputs": [],
   "source": [
    "def DNAtoRNA(string):\n",
    "    ''' Transform a DNA string to an equivalent RNA string, by tranforming\n",
    "    all the thymine bases to uracil, irrespective or whether they are\n",
    "    capital or small letters.\n",
    "    '''\n",
    "    \n",
    "    return string.replace('T','U').replace('t','u')\n",
    "    \n",
    "    "
   ]
  },
  {
   "cell_type": "code",
   "execution_count": 4,
   "metadata": {},
   "outputs": [
    {
     "name": "stdout",
     "output_type": "stream",
     "text": [
      "DNA Test string transformed into RNA:\n",
      " GAUGGAACUUGACUACGUAAAUU\n",
      "DNA Test string transformed into RNA (in lower case):\n",
      " gauggaacuugacuacguaaauu\n"
     ]
    }
   ],
   "source": [
    "print('DNA Test string transformed into RNA:\\n', DNAtoRNA(teststring))\n",
    "print('DNA Test string transformed into RNA (in lower case):\\n', DNAtoRNA(teststring.lower()))"
   ]
  },
  {
   "cell_type": "markdown",
   "metadata": {},
   "source": [
    "We can also include some benchmarking time (and see how it scales with the length of the string):"
   ]
  },
  {
   "cell_type": "code",
   "execution_count": 5,
   "metadata": {},
   "outputs": [
    {
     "name": "stdout",
     "output_type": "stream",
     "text": [
      "193 ns ± 1.06 ns per loop (mean ± std. dev. of 7 runs, 10000000 loops each)\n"
     ]
    }
   ],
   "source": [
    "%timeit DNAtoRNA(teststring)"
   ]
  },
  {
   "cell_type": "code",
   "execution_count": 6,
   "metadata": {},
   "outputs": [],
   "source": [
    "def evaluatetime(testfunction, string, nl = 100, nt = 30):\n",
    "    ''' Function to evaluate time\n",
    "    '''\n",
    "    times = np.zeros((nl,2))\n",
    "    ts = np.zeros(nt)\n",
    "\n",
    "    for i in range(nl):\n",
    "        for j in range(nt):\n",
    "            t0 = time.perf_counter()\n",
    "            test = testfunction(string*i)\n",
    "            t1 = time.perf_counter()\n",
    "            ts[j] = t1-t0\n",
    "\n",
    "        times[i,:] = ts.mean(), ts.std()\n",
    "    return times"
   ]
  },
  {
   "cell_type": "code",
   "execution_count": 7,
   "metadata": {},
   "outputs": [],
   "source": [
    "nl = 100\n",
    "times_RNA = evaluatetime(DNAtoRNA, teststring, nl)"
   ]
  },
  {
   "cell_type": "code",
   "execution_count": 8,
   "metadata": {},
   "outputs": [
    {
     "data": {
      "text/plain": [
       "(0, 7)"
      ]
     },
     "execution_count": 8,
     "metadata": {},
     "output_type": "execute_result"
    },
    {
     "data": {
      "image/png": "[encoded data removed]",
      "text/plain": [
       "<Figure size 432x288 with 1 Axes>"
      ]
     },
     "metadata": {
      "needs_background": "light"
     },
     "output_type": "display_data"
    }
   ],
   "source": [
    "\n",
    "plt.plot(np.arange(nl)*len(teststring),times_RNA[:,0]/1e-6, '.-')\n",
    "\n",
    "plt.xlabel('length')\n",
    "plt.ylabel('time (µs)')\n",
    "plt.ylim(0,15)\n"
   ]
  },
  {
   "cell_type": "markdown",
   "metadata": {},
   "source": [
    "## Problem\n",
    "\n",
    "In DNA strings, symbols 'A' and 'T' are complements of each other, as are 'C' and 'G'.\n",
    "\n",
    "The **reverse complement** of a DNA string s\n",
    "is the string sc formed by reversing the symbols of s, then taking the complement of each symbol (e.g., the reverse complement of \"GTCA\" is \"TGAC\").\n",
    "\n",
    "**Given:** A DNA string s of length at most 1000 bp.\n",
    "\n",
    "**Return:** The reverse complement sc of s."
   ]
  },
  {
   "cell_type": "code",
   "execution_count": 9,
   "metadata": {},
   "outputs": [],
   "source": [
    "def elementarycomplement(string, base, comp_base, swap='x'): \n",
    "    ''' Elementary swap of bases\n",
    "    '''\n",
    "    return string.replace(base,swap).replace(comp_base,base).replace(swap, comp_base)\n",
    "\n",
    "def DNAreversecomplement(string):\n",
    "    '''Transform a DNA string to its reverse complement.\n",
    "    '''\n",
    "    complement = string[::-1]\n",
    "    complement = elementarycomplement(complement,'A','T')\n",
    "    complement = elementarycomplement(complement,'G','C')\n",
    "    return complement"
   ]
  },
  {
   "cell_type": "code",
   "execution_count": 10,
   "metadata": {},
   "outputs": [
    {
     "name": "stdout",
     "output_type": "stream",
     "text": [
      "The reverse complement of AAAACCCGGT is ACCGGGTTTT\n",
      "The reverse complement of GATGGAACTTGACTACGTAAATT is AATTTACGTAGTCAAGTTCCATC\n"
     ]
    }
   ],
   "source": [
    "print('The reverse complement of {} is {}'.format(teststring2,\n",
    "                               DNAreversecomplement(teststring2)))\n",
    "print('The reverse complement of {} is {}'.format(teststring,\n",
    "                               DNAreversecomplement(teststring)))"
   ]
  },
  {
   "cell_type": "code",
   "execution_count": 11,
   "metadata": {},
   "outputs": [],
   "source": [
    "times_RC = evaluatetime(DNAreversecomplement, teststring, nl)"
   ]
  },
  {
   "cell_type": "code",
   "execution_count": 12,
   "metadata": {},
   "outputs": [
    {
     "data": {
      "text/plain": [
       "(0, 25)"
      ]
     },
     "execution_count": 12,
     "metadata": {},
     "output_type": "execute_result"
    },
    {
     "data": {
      "image/png": "[encoded data removed]",
      "text/plain": [
       "<Figure size 432x288 with 1 Axes>"
      ]
     },
     "metadata": {
      "needs_background": "light"
     },
     "output_type": "display_data"
    }
   ],
   "source": [
    "plt.plot(np.arange(nl)*len(teststring),times_RC[:,0]/1e-6, '.-')\n",
    "\n",
    "plt.xlabel('length')\n",
    "plt.ylabel('time (µs)')\n",
    "plt.ylim(0,15)\n"
   ]
  },
  {
   "cell_type": "markdown",
   "metadata": {},
   "source": [
    "## Problem\n",
    "\n",
    "A string is simply an ordered collection of symbols selected from some alphabet and formed into a word; the length of a string is the number of symbols that it contains.\n",
    "\n",
    "An example of a length 21 DNA string (whose alphabet contains the symbols 'A', 'C', 'G', and 'T') is \"ATGCTTCAGAAAGGTCTTACG.\"\n",
    "\n",
    "**Given:** A DNA string s of length at most 1000 nt.\n",
    "\n",
    "**Return:** Four integers (separated by spaces) counting the respective number of times that the symbols 'A', 'C', 'G', and 'T' occur in s\n",
    "."
   ]
  },
  {
   "cell_type": "code",
   "execution_count": null,
   "metadata": {},
   "outputs": [],
   "source": []
  },
  {
   "cell_type": "code",
   "execution_count": 13,
   "metadata": {},
   "outputs": [],
   "source": [
    "def countbases(string, bases = ['A', 'C', 'G', 'T']):\n",
    "    '''Count number of times each base appears.\n",
    "    '''\n",
    "    counts = [string.count(base) for base in bases]\n",
    "    return counts"
   ]
  },
  {
   "cell_type": "code",
   "execution_count": 14,
   "metadata": {},
   "outputs": [
    {
     "name": "stdout",
     "output_type": "stream",
     "text": [
      "Counts of the string \n",
      "AGCTTTTCATTCTGACTGCAACGGGCAATATGTCTCTGTGTGGATTAAAAAAAGAGTGTCTGATAGCAGC\n",
      "are: [20, 12, 17, 21]\n"
     ]
    }
   ],
   "source": [
    "print('Counts of the string \\n{}\\nare: {}'.format(teststring3,\n",
    "                                       countbases(teststring3)))"
   ]
  },
  {
   "cell_type": "code",
   "execution_count": 15,
   "metadata": {},
   "outputs": [
    {
     "name": "stdout",
     "output_type": "stream",
     "text": [
      "Counts of the string \n",
      "GATGGAACTTGACTACGTAAATT\n",
      "are: [8, 3, 5, 7]\n",
      "and of its reverse \n",
      "AATTTACGTAGTCAAGTTCCATC\n",
      "are: [7, 5, 3, 8]\n"
     ]
    }
   ],
   "source": [
    "print('Counts of the string \\n{}\\nare: {}'.format(teststring,\n",
    "                                       countbases(teststring)))\n",
    "rteststring = DNAreversecomplement(teststring)\n",
    "print('and of its reverse \\n{}\\nare: {}'.format(rteststring,\n",
    "                                       countbases(rteststring)))"
   ]
  },
  {
   "cell_type": "code",
   "execution_count": 16,
   "metadata": {},
   "outputs": [],
   "source": [
    "times_Counts = evaluatetime(countbases, teststring, nl)"
   ]
  },
  {
   "cell_type": "code",
   "execution_count": 18,
   "metadata": {},
   "outputs": [
    {
     "data": {
      "text/plain": [
       "(0, 15)"
      ]
     },
     "execution_count": 18,
     "metadata": {},
     "output_type": "execute_result"
    },
    {
     "data": {
      "image/png": "[encoded data removed]",
      "text/plain": [
       "<Figure size 432x288 with 1 Axes>"
      ]
     },
     "metadata": {
      "needs_background": "light"
     },
     "output_type": "display_data"
    }
   ],
   "source": [
    "plt.plot(np.arange(nl)*len(teststring),times_RNA[:,0]/1e-6, '.-',\n",
    "        label = 'RNA equiv')\n",
    "plt.plot(np.arange(nl)*len(teststring),times_RC[:,0]/1e-6, '.-',\n",
    "        label = 'reverse complement')\n",
    "plt.plot(np.arange(nl)*len(teststring),times_Counts[:,0]/1e-6, '.-',\n",
    "         label = 'counts')\n",
    "plt.legend()\n",
    "plt.xlabel('length')\n",
    "plt.ylabel('time (µs)')\n",
    "plt.ylim(0,15)\n"
   ]
  },
  {
   "cell_type": "code",
   "execution_count": 37,
   "metadata": {},
   "outputs": [],
   "source": [
    "def elementarycomplement(string, base, comp_base, swap='x'): \n",
    "    ''' Elementary swap of bases\n",
    "    '''\n",
    "    return string.replace(base,swap).replace(comp_base,base).replace(swap, comp_base)\n",
    "\n",
    "class DNAseq:\n",
    "    ''' Class to include DNA sequence with methods\n",
    "    Input:\n",
    "       - DNA string with sequence\n",
    "    '''\n",
    "    def __init__(self, seq):\n",
    "        self.seq = seq.upper() # We force them to capital letters\n",
    "        self.length = len(seq)\n",
    "        \n",
    "    def toRNA(self):\n",
    "        ''' Transform a DNA string to an equivalent RNA string, by tranforming\n",
    "        all the thymine bases to uracil, irrespective or whether they are\n",
    "        capital or small letters.\n",
    "        '''\n",
    "\n",
    "        return self.seq.replace('T','U').replace('t','u')\n",
    "    \n",
    "\n",
    "    def reversecomplement(self):\n",
    "        '''Transform a DNA string to its reverse complement.\n",
    "        '''\n",
    "        complement = self.seq[::-1]\n",
    "        complement = elementarycomplement(complement,'A','T')\n",
    "        complement = elementarycomplement(complement,'G','C')\n",
    "        complement = elementarycomplement(complement,'a','t')\n",
    "        complement = elementarycomplement(complement,'g','c')\n",
    "        self.rev_comp = complement\n",
    "        return complement\n",
    "    \n",
    "    def countbases(self, bases = ['A', 'C', 'G', 'T']):\n",
    "        '''Count number of times each base appears.\n",
    "        '''\n",
    "        counts = [self.seq.count(base) for base in bases]\n",
    "        self.counts = counts\n",
    "        \n",
    "        return counts\n",
    "    \n",
    "    def __len__(self):\n",
    "        return self.length\n",
    "    \n",
    "    def __str__(self):\n",
    "        return self.seq\n",
    "    \n",
    "    def __add__(self, dna_seq2):\n",
    "        return DNAseq(self.seq+dna_seq2.seq)\n",
    "    "
   ]
  },
  {
   "cell_type": "code",
   "execution_count": 38,
   "metadata": {},
   "outputs": [],
   "source": [
    "dna_test1 = DNAseq(teststring)\n",
    "dna_test2 = DNAseq(teststring2)\n"
   ]
  },
  {
   "cell_type": "code",
   "execution_count": 39,
   "metadata": {},
   "outputs": [
    {
     "name": "stdout",
     "output_type": "stream",
     "text": [
      "GATGGAACTTGACTACGTAAATT 23\n"
     ]
    }
   ],
   "source": [
    "print(dna_test1, len(dna_test1))"
   ]
  },
  {
   "cell_type": "code",
   "execution_count": 40,
   "metadata": {},
   "outputs": [
    {
     "name": "stdout",
     "output_type": "stream",
     "text": [
      "GATGGAACTTGACTACGTAAATTAAAACCCGGT 33\n"
     ]
    }
   ],
   "source": [
    "print(dna_test1+dna_test2, len(dna_test1+dna_test2))"
   ]
  },
  {
   "cell_type": "code",
   "execution_count": 43,
   "metadata": {},
   "outputs": [
    {
     "name": "stdout",
     "output_type": "stream",
     "text": [
      "Other properties of GATGGAACTTGACTACGTAAATT:\n",
      " - RNA:GAUGGAACUUGACUACGUAAAUU\n",
      " - Reverse comp:AATTTACGTAGTCAAGTTCCATC\n",
      " - counts:[8, 3, 5, 7]\n"
     ]
    }
   ],
   "source": [
    "print('Other properties of {}:\\n - RNA:{}\\n - Reverse comp:{}\\n - counts:{}'.format(\n",
    "            dna_test1,\n",
    "            dna_test1.toRNA(), \n",
    "            dna_test1.reversecomplement(),\n",
    "            dna_test1.countbases()))"
   ]
  }
 ],
 "metadata": {
  "kernelspec": {
   "display_name": "Python 3",
   "language": "python",
   "name": "python3"
  },
  "language_info": {
   "codemirror_mode": {
    "name": "ipython",
    "version": 3
   },
   "file_extension": ".py",
   "mimetype": "text/x-python",
   "name": "python",
   "nbconvert_exporter": "python",
   "pygments_lexer": "ipython3",
   "version": "3.8.0"
  }
 },
 "nbformat": 4,
 "nbformat_minor": 4
}

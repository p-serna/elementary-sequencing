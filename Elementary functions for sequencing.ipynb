{
 "cells": [
  {
   "cell_type": "code",
   "execution_count": 15,
   "metadata": {},
   "outputs": [],
   "source": [
    "import time\n",
    "import numpy as np\n",
    "import matplotlib.pylab as plt\n",
    "%matplotlib inline"
   ]
  },
  {
   "cell_type": "code",
   "execution_count": 13,
   "metadata": {},
   "outputs": [],
   "source": [
    "teststring = 'GATGGAACTTGACTACGTAAATT'"
   ]
  },
  {
   "cell_type": "markdown",
   "metadata": {},
   "source": [
    "## Problem\n",
    "\n",
    "An **RNA string** is a string formed from the alphabet containing 'A', 'C', 'G', and 'U'.\n",
    "\n",
    "Given a DNA string t\n",
    "corresponding to a coding strand, its transcribed RNA string u is formed by replacing all occurrences of 'T' in t with 'U' in u\n",
    "\n",
    ".\n",
    "\n",
    "Given: A DNA string t\n",
    "\n",
    "having length at most 1000 nt.\n",
    "\n",
    "Return: The transcribed RNA string of t\n",
    "."
   ]
  },
  {
   "cell_type": "code",
   "execution_count": 3,
   "metadata": {},
   "outputs": [],
   "source": [
    "def DNAtoRNA(string):\n",
    "    ''' Transform a DNA string to an equivalent RNA string, by tranforming\n",
    "    all the thymine bases to uracil, irrespective or whether they are\n",
    "    capital or small letters.\n",
    "    '''\n",
    "    \n",
    "    return string.replace('T','U').replace('t','u')\n",
    "    \n",
    "    "
   ]
  },
  {
   "cell_type": "code",
   "execution_count": 9,
   "metadata": {},
   "outputs": [
    {
     "name": "stdout",
     "output_type": "stream",
     "text": [
      "DNA Test string transformed into RNA:\n",
      " GAUGGAACUUGACUACGUAAAUU\n",
      "DNA Test string transformed into RNA (in lower case):\n",
      " gauggaacuugacuacguaaauu\n"
     ]
    }
   ],
   "source": [
    "print('DNA Test string transformed into RNA:\\n', DNAtoRNA(teststring))\n",
    "print('DNA Test string transformed into RNA (in lower case):\\n', DNAtoRNA(teststring.lower()))"
   ]
  },
  {
   "cell_type": "markdown",
   "metadata": {},
   "source": [
    "We can also include some benchmarking time (and see how it scales with the length of the string):"
   ]
  },
  {
   "cell_type": "code",
   "execution_count": 10,
   "metadata": {},
   "outputs": [
    {
     "name": "stdout",
     "output_type": "stream",
     "text": [
      "195 ns ± 1.25 ns per loop (mean ± std. dev. of 7 runs, 10000000 loops each)\n"
     ]
    }
   ],
   "source": [
    "%timeit DNAtoRNA(teststring)"
   ]
  },
  {
   "cell_type": "code",
   "execution_count": 31,
   "metadata": {},
   "outputs": [],
   "source": [
    "nl = 100\n",
    "nt = 30\n",
    "times = np.zeros((nl,2))\n",
    "ts = np.zeros(nt)\n",
    "\n",
    "for i in range(nl):\n",
    "    for j in range(nt):\n",
    "        t0 = time.perf_counter()\n",
    "        test = DNAtoRNA(teststring*i)\n",
    "        t1 = time.perf_counter()\n",
    "        ts[j] = t1-t0\n",
    "        \n",
    "    times[i,:] = ts.mean(), ts.std()"
   ]
  },
  {
   "cell_type": "code",
   "execution_count": 34,
   "metadata": {},
   "outputs": [
    {
     "data": {
      "text/plain": [
       "Text(0, 0.5, 'time (µs)')"
      ]
     },
     "execution_count": 34,
     "metadata": {},
     "output_type": "execute_result"
    },
    {
     "data": {
      "image/png": "[encoded data removed]",
      "text/plain": [
       "<Figure size 432x288 with 1 Axes>"
      ]
     },
     "metadata": {
      "needs_background": "light"
     },
     "output_type": "display_data"
    }
   ],
   "source": [
    "plt.plot(np.arange(nl)*len(teststring),times[:,0]/1e-6, '.-')\n",
    "plt.xlabel('length')\n",
    "plt.ylabel('time (µs)')"
   ]
  },
  {
   "cell_type": "code",
   "execution_count": null,
   "metadata": {},
   "outputs": [],
   "source": []
  }
 ],
 "metadata": {
  "kernelspec": {
   "display_name": "Python 3",
   "language": "python",
   "name": "python3"
  },
  "language_info": {
   "codemirror_mode": {
    "name": "ipython",
    "version": 3
   },
   "file_extension": ".py",
   "mimetype": "text/x-python",
   "name": "python",
   "nbconvert_exporter": "python",
   "pygments_lexer": "ipython3",
   "version": "3.8.0"
  }
 },
 "nbformat": 4,
 "nbformat_minor": 4
}
